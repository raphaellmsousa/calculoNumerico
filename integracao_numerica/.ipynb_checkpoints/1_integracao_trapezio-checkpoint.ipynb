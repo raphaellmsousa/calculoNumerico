{
 "cells": [
  {
   "cell_type": "markdown",
   "metadata": {},
   "source": [
    "### Disciplina de Cálculo Numérico\n",
    "\n",
    "#### Curso: Engenharia da Computação\n",
    "\n",
    "#### Discente: Raphaell Maciel de Sousa\n",
    "\n",
    "#### Data: 23/04/2020"
   ]
  },
  {
   "cell_type": "code",
   "execution_count": 1,
   "metadata": {},
   "outputs": [],
   "source": [
    "import numpy as np\n",
    "import math\n",
    "import matplotlib.pyplot as plt"
   ]
  },
  {
   "cell_type": "code",
   "execution_count": 2,
   "metadata": {},
   "outputs": [],
   "source": [
    "def f(x):\n",
    "    return 1/(1.0+float(x))"
   ]
  },
  {
   "cell_type": "code",
   "execution_count": 3,
   "metadata": {},
   "outputs": [
    {
     "name": "stdout",
     "output_type": "stream",
     "text": [
      "Passo de integração h = 0.5\n"
     ]
    }
   ],
   "source": [
    "a=0\n",
    "b=3\n",
    "n=6\n",
    "\n",
    "h=(b-a)/float(n)\n",
    "\n",
    "print \"Passo de integração h =\",h"
   ]
  },
  {
   "cell_type": "code",
   "execution_count": 4,
   "metadata": {},
   "outputs": [],
   "source": [
    "functionArray = []\n",
    "xAxisArray = []\n",
    "\n",
    "for x in np.arange(a, b, h, dtype=float):    \n",
    "    functionArray.append(f(x))\n",
    "    xAxisArray.append(x)\n",
    "\n",
    "    "
   ]
  },
  {
   "cell_type": "code",
   "execution_count": 6,
   "metadata": {},
   "outputs": [
    {
     "name": "stdout",
     "output_type": "stream",
     "text": [
      "Cálculo da integral pelo método dos retângulos com altura pela esquerda\n",
      "F(x) = 1.59285714286\n"
     ]
    }
   ],
   "source": [
    "print \"Cálculo da integral pelo método dos retângulos com altura pela esquerda\"\n",
    "print \"F(x) =\",h*sum(functionArray)"
   ]
  },
  {
   "cell_type": "code",
   "execution_count": 7,
   "metadata": {},
   "outputs": [
    {
     "data": {
      "image/png": "[encoded data removed]",
      "text/plain": [
       "<Figure size 432x288 with 1 Axes>"
      ]
     },
     "metadata": {
      "needs_background": "light"
     },
     "output_type": "display_data"
    }
   ],
   "source": [
    "fig = plt.figure()\n",
    "ax = fig.add_subplot(111)\n",
    "plt.plot(xAxisArray, functionArray, 'b--')\n",
    "ax.set_title(\"Metodo dos Retangulos\")\n",
    "ax.set_xlabel('x')\n",
    "ax.set_ylabel('f(x)')\n",
    "plt.grid(True)\n",
    "plt.show()"
   ]
  }
 ],
 "metadata": {
  "kernelspec": {
   "display_name": "Python 2",
   "language": "python",
   "name": "python2"
  },
  "language_info": {
   "codemirror_mode": {
    "name": "ipython",
    "version": 2
   },
   "file_extension": ".py",
   "mimetype": "text/x-python",
   "name": "python",
   "nbconvert_exporter": "python",
   "pygments_lexer": "ipython2",
   "version": "2.7.12"
  }
 },
 "nbformat": 4,
 "nbformat_minor": 2
}

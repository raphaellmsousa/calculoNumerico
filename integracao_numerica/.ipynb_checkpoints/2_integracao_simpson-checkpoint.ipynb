{
 "cells": [
  {
   "cell_type": "markdown",
   "metadata": {},
   "source": [
    "### Disciplina de Cálculo Numérico\n",
    "\n",
    "#### Curso: Engenharia da Computação\n",
    "\n",
    "#### Discente: Raphaell Maciel de Sousa\n",
    "\n",
    "#### Data: 24/04/2020"
   ]
  },
  {
   "cell_type": "code",
   "execution_count": 1,
   "metadata": {},
   "outputs": [],
   "source": [
    "import numpy as np\n",
    "import math\n",
    "import matplotlib.pyplot as plt"
   ]
  },
  {
   "cell_type": "code",
   "execution_count": 2,
   "metadata": {},
   "outputs": [],
   "source": [
    "def f(x):\n",
    "    return 1/(1.0+float(x))"
   ]
  },
  {
   "cell_type": "code",
   "execution_count": 3,
   "metadata": {},
   "outputs": [
    {
     "name": "stdout",
     "output_type": "stream",
     "text": [
      "Passo de integração h = 0.5\n"
     ]
    }
   ],
   "source": [
    "a=0\n",
    "b=3\n",
    "n=6\n",
    "\n",
    "h=(b-a)/float(n)\n",
    "\n",
    "print \"Passo de integração h =\",h"
   ]
  },
  {
   "cell_type": "code",
   "execution_count": 4,
   "metadata": {},
   "outputs": [],
   "source": [
    "functionArray = []\n",
    "xAxisArray = []\n",
    "\n",
    "for x in np.arange(a, b+h, h, dtype=float):    \n",
    "    functionArray.append(f(x))\n",
    "    xAxisArray.append(x)"
   ]
  },
  {
   "cell_type": "code",
   "execution_count": 5,
   "metadata": {},
   "outputs": [
    {
     "name": "stdout",
     "output_type": "stream",
     "text": [
      "[1.0, 0.6666666666666666, 0.5, 0.4, 0.3333333333333333, 0.2857142857142857, 0.25]\n"
     ]
    }
   ],
   "source": [
    "print functionArray"
   ]
  },
  {
   "cell_type": "markdown",
   "metadata": {},
   "source": [
    "#### Regra 1/3 de Simpson"
   ]
  },
  {
   "cell_type": "code",
   "execution_count": 6,
   "metadata": {},
   "outputs": [],
   "source": [
    "sumParArray = []\n",
    "sumImparArray = []\n",
    "\n",
    "for x in np.arange(2, n+1, 1, dtype=float):    \n",
    "    if x%2==0:\n",
    "        sumParArray.append(functionArray[int(x-1)])  \n",
    "        #print \"x par:\",x\n",
    "    else:\n",
    "        sumImparArray.append(functionArray[int(x-1)])    \n",
    "        #print \"x impar:\",x\n",
    " \n",
    "somaPar = sum(sumParArray)\n",
    "somaImpar = sum(sumImparArray)\n",
    "\n",
    "integral = (h/3)*(functionArray[0] + functionArray[n] + 4*somaPar + 2*somaImpar)"
   ]
  },
  {
   "cell_type": "code",
   "execution_count": 7,
   "metadata": {},
   "outputs": [
    {
     "name": "stdout",
     "output_type": "stream",
     "text": [
      "Cálculo da integral pela Regra 1/3 de Simpson:\n",
      "F(x) = 1.3876984127\n"
     ]
    }
   ],
   "source": [
    "print \"Cálculo da integral pela Regra 1/3 de Simpson:\"\n",
    "print \"F(x) =\",integral"
   ]
  },
  {
   "cell_type": "markdown",
   "metadata": {},
   "source": [
    "#### Regra 3/8 de Simpson"
   ]
  },
  {
   "cell_type": "code",
   "execution_count": 8,
   "metadata": {},
   "outputs": [
    {
     "name": "stdout",
     "output_type": "stream",
     "text": [
      "Passo de integração h = 0.5\n"
     ]
    }
   ],
   "source": [
    "a=0\n",
    "b=3\n",
    "n=6 #Necessariamente múltiplo de 3\n",
    "\n",
    "h=(b-a)/float(n) \n",
    "\n",
    "print \"Passo de integração h =\",h"
   ]
  },
  {
   "cell_type": "code",
   "execution_count": 9,
   "metadata": {},
   "outputs": [],
   "source": [
    "sumArrayFirst = []\n",
    "sumArraySecound = []\n",
    "cont = 0\n",
    "\n",
    "for x in np.arange(1, n, 1, dtype=float): \n",
    "  \n",
    "    cont=cont+1\n",
    "\n",
    "    if cont<3:\n",
    "        sumArrayFirst.append(functionArray[int(x)])\n",
    "        \n",
    "    else:\n",
    "        sumArraySecound.append(functionArray[int(x)])\n",
    "        cont = 0\n",
    "\n",
    "somaFirst = sum(sumArrayFirst)\n",
    "somaSecound = sum(sumArraySecound)\n",
    "\n",
    "integral = (0.375*h)*(functionArray[0] + functionArray[n] + 3*somaFirst + 2*somaSecound)"
   ]
  },
  {
   "cell_type": "code",
   "execution_count": 10,
   "metadata": {},
   "outputs": [
    {
     "name": "stdout",
     "output_type": "stream",
     "text": [
      "Cálculo da integral pela Regra 3/8 de Simpson:\n",
      "F(x) = 1.38883928571\n"
     ]
    }
   ],
   "source": [
    "print \"Cálculo da integral pela Regra 3/8 de Simpson:\"\n",
    "print \"F(x) =\",integral"
   ]
  }
 ],
 "metadata": {
  "kernelspec": {
   "display_name": "Python 2",
   "language": "python",
   "name": "python2"
  },
  "language_info": {
   "codemirror_mode": {
    "name": "ipython",
    "version": 2
   },
   "file_extension": ".py",
   "mimetype": "text/x-python",
   "name": "python",
   "nbconvert_exporter": "python",
   "pygments_lexer": "ipython2",
   "version": "2.7.12"
  }
 },
 "nbformat": 4,
 "nbformat_minor": 2
}

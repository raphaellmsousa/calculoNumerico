{
 "cells": [
  {
   "cell_type": "markdown",
   "metadata": {},
   "source": [
    "### Disciplina de Cálculo Numérico\n",
    "\n",
    "#### Curso: Engenharia da Computação\n",
    "\n",
    "#### Discente: Raphaell Maciel de Sousa\n",
    "\n",
    "#### Data: 23/04/2020"
   ]
  },
  {
   "cell_type": "code",
   "execution_count": 1,
   "metadata": {},
   "outputs": [],
   "source": [
    "import numpy as np\n",
    "import math\n",
    "import matplotlib.pyplot as plt"
   ]
  },
  {
   "cell_type": "code",
   "execution_count": 2,
   "metadata": {},
   "outputs": [],
   "source": [
    "def f(x):\n",
    "    return 1/(1.0+float(x))"
   ]
  },
  {
   "cell_type": "code",
   "execution_count": 3,
   "metadata": {},
   "outputs": [
    {
     "name": "stdout",
     "output_type": "stream",
     "text": [
      "Passo de integração h = 0.5\n"
     ]
    }
   ],
   "source": [
    "a=0\n",
    "b=3\n",
    "n=6\n",
    "\n",
    "h=(b-a)/float(n)\n",
    "\n",
    "print \"Passo de integração h =\",h"
   ]
  },
  {
   "cell_type": "code",
   "execution_count": 4,
   "metadata": {},
   "outputs": [],
   "source": [
    "functionArray = []\n",
    "xAxisArray = []\n",
    "\n",
    "for x in np.arange(a, b+h, h, dtype=float):    \n",
    "    functionArray.append(f(x))\n",
    "    xAxisArray.append(x)"
   ]
  },
  {
   "cell_type": "code",
   "execution_count": 5,
   "metadata": {},
   "outputs": [
    {
     "name": "stdout",
     "output_type": "stream",
     "text": [
      "[1.0, 0.6666666666666666, 0.5, 0.4, 0.3333333333333333, 0.2857142857142857, 0.25]\n"
     ]
    }
   ],
   "source": [
    "print functionArray"
   ]
  },
  {
   "cell_type": "code",
   "execution_count": 6,
   "metadata": {},
   "outputs": [
    {
     "name": "stdout",
     "output_type": "stream",
     "text": [
      "[0.6666666666666666, 0.5, 0.4, 0.3333333333333333, 0.2857142857142857]\n"
     ]
    }
   ],
   "source": [
    "sumArray = []\n",
    "\n",
    "for x in np.arange(1, len(functionArray)-1, 1, dtype=float):    \n",
    "    sumArray.append(functionArray[int(x)])\n",
    "    \n",
    "print sumArray\n",
    "\n",
    "soma = sum(sumArray)\n",
    "integral = (0.5*h)*(functionArray[0] + 2*soma + functionArray[n])"
   ]
  },
  {
   "cell_type": "code",
   "execution_count": 7,
   "metadata": {},
   "outputs": [
    {
     "name": "stdout",
     "output_type": "stream",
     "text": [
      "1.0 2.18571428571 0.25\n"
     ]
    }
   ],
   "source": [
    "print functionArray[0], soma, functionArray[n]"
   ]
  },
  {
   "cell_type": "code",
   "execution_count": 8,
   "metadata": {},
   "outputs": [
    {
     "name": "stdout",
     "output_type": "stream",
     "text": [
      "Cálculo da integral pelo método dos trapézios\n",
      "F(x) = 1.40535714286\n"
     ]
    }
   ],
   "source": [
    "print \"Cálculo da integral pelo método dos trapézios\"\n",
    "print \"F(x) =\",integral"
   ]
  }
 ],
 "metadata": {
  "kernelspec": {
   "display_name": "Python 2",
   "language": "python",
   "name": "python2"
  },
  "language_info": {
   "codemirror_mode": {
    "name": "ipython",
    "version": 2
   },
   "file_extension": ".py",
   "mimetype": "text/x-python",
   "name": "python",
   "nbconvert_exporter": "python",
   "pygments_lexer": "ipython2",
   "version": "2.7.12"
  }
 },
 "nbformat": 4,
 "nbformat_minor": 2
}

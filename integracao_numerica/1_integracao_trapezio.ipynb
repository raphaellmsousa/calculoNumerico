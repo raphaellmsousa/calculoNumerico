{
 "cells": [
  {
   "cell_type": "markdown",
   "metadata": {},
   "source": [
    "### Disciplina de Cálculo Numérico\n",
    "\n",
    "#### Curso: Engenharia da Computação\n",
    "\n",
    "#### Discente: Raphaell Maciel de Sousa\n",
    "\n",
    "#### Data: 23/04/2020"
   ]
  },
  {
   "cell_type": "code",
   "execution_count": 1,
   "metadata": {},
   "outputs": [],
   "source": [
    "import numpy as np\n",
    "import math\n",
    "import matplotlib.pyplot as plt"
   ]
  },
  {
   "cell_type": "code",
   "execution_count": 2,
   "metadata": {},
   "outputs": [],
   "source": [
    "#def f(x):\n",
    "#    return 1/(1.0+float(x))\n",
    "\n",
    "def f(x):\n",
    "    return x*math.exp(x)"
   ]
  },
  {
   "cell_type": "code",
   "execution_count": 3,
   "metadata": {},
   "outputs": [
    {
     "name": "stdout",
     "output_type": "stream",
     "text": [
      "Passo de integração h = 0.25\n"
     ]
    }
   ],
   "source": [
    "a=0\n",
    "b=2\n",
    "n=8\n",
    "\n",
    "h=(b-a)/float(n)\n",
    "\n",
    "print \"Passo de integração h =\",h"
   ]
  },
  {
   "cell_type": "code",
   "execution_count": 4,
   "metadata": {},
   "outputs": [],
   "source": [
    "functionArray = []\n",
    "xAxisArray = []\n",
    "\n",
    "for x in np.arange(a, b+h, h, dtype=float):    \n",
    "    functionArray.append(f(x))\n",
    "    xAxisArray.append(x)"
   ]
  },
  {
   "cell_type": "code",
   "execution_count": 5,
   "metadata": {},
   "outputs": [
    {
     "name": "stdout",
     "output_type": "stream",
     "text": [
      "[0.0, 0.32100635417193535, 0.8243606353500641, 1.587750012459506, 2.718281828459045, 4.362928696827302, 6.722533605507097, 10.070554683010029, 14.7781121978613]\n"
     ]
    }
   ],
   "source": [
    "print functionArray"
   ]
  },
  {
   "cell_type": "code",
   "execution_count": 6,
   "metadata": {},
   "outputs": [
    {
     "name": "stdout",
     "output_type": "stream",
     "text": [
      "[0.32100635417193535, 0.8243606353500641, 1.587750012459506, 2.718281828459045, 4.362928696827302, 6.722533605507097, 10.070554683010029]\n"
     ]
    }
   ],
   "source": [
    "sumArray = []\n",
    "\n",
    "for x in np.arange(1, len(functionArray)-1, 1, dtype=float):    \n",
    "    sumArray.append(functionArray[int(x)])\n",
    "    \n",
    "print sumArray\n",
    "\n",
    "soma = sum(sumArray)\n",
    "integral = (0.5*h)*(functionArray[0] + 2*soma + functionArray[n])"
   ]
  },
  {
   "cell_type": "code",
   "execution_count": 7,
   "metadata": {},
   "outputs": [
    {
     "name": "stdout",
     "output_type": "stream",
     "text": [
      "0.0 26.607415815784982 14.7781121978613\n"
     ]
    }
   ],
   "source": [
    "print functionArray[0], soma, functionArray[n]"
   ]
  },
  {
   "cell_type": "code",
   "execution_count": 8,
   "metadata": {},
   "outputs": [
    {
     "name": "stdout",
     "output_type": "stream",
     "text": [
      "Cálculo da integral pelo método dos trapézios\n",
      "F(x) = 8.499117978678909\n"
     ]
    }
   ],
   "source": [
    "print \"Cálculo da integral pelo método dos trapézios\"\n",
    "print \"F(x) =\",integral"
   ]
  }
 ],
 "metadata": {
  "kernelspec": {
   "display_name": "Python 2",
   "language": "python",
   "name": "python2"
  },
  "language_info": {
   "codemirror_mode": {
    "name": "ipython",
    "version": 2
   },
   "file_extension": ".py",
   "mimetype": "text/x-python",
   "name": "python",
   "nbconvert_exporter": "python",
   "pygments_lexer": "ipython2",
   "version": "2.7.12"
  }
 },
 "nbformat": 4,
 "nbformat_minor": 2
}

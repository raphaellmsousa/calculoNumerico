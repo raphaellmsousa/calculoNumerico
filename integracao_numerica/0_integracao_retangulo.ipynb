{
 "cells": [
  {
   "cell_type": "markdown",
   "metadata": {},
   "source": [
    "### Disciplina de Cálculo Numérico\n",
    "\n",
    "#### Curso: Engenharia da Computação\n",
    "\n",
    "#### Discente: Raphaell Maciel de Sousa\n",
    "\n",
    "#### Data: 22/04/2020"
   ]
  },
  {
   "cell_type": "code",
   "execution_count": 1,
   "metadata": {},
   "outputs": [],
   "source": [
    "import numpy as np\n",
    "import math\n",
    "import matplotlib.pyplot as plt"
   ]
  },
  {
   "cell_type": "code",
   "execution_count": 2,
   "metadata": {},
   "outputs": [],
   "source": [
    "def f(x):\n",
    "    return 1/(1.0+float(x))"
   ]
  },
  {
   "cell_type": "code",
   "execution_count": 3,
   "metadata": {},
   "outputs": [
    {
     "name": "stdout",
     "output_type": "stream",
     "text": [
      "Passo de integração h = 1.0\n"
     ]
    }
   ],
   "source": [
    "a=0\n",
    "b=3\n",
    "n=3\n",
    "\n",
    "h=(b-a)/float(n)\n",
    "\n",
    "print \"Passo de integração h =\",h"
   ]
  },
  {
   "cell_type": "markdown",
   "metadata": {},
   "source": [
    "#### Método dos Retângulos com Altura pela Esquerda"
   ]
  },
  {
   "cell_type": "code",
   "execution_count": 4,
   "metadata": {},
   "outputs": [],
   "source": [
    "functionArray = []\n",
    "xAxisArray = []\n",
    "\n",
    "for x in np.arange(a, b+h, h, dtype=float):    \n",
    "    functionArray.append(f(x))\n",
    "    xAxisArray.append(x)"
   ]
  },
  {
   "cell_type": "code",
   "execution_count": 5,
   "metadata": {},
   "outputs": [
    {
     "name": "stdout",
     "output_type": "stream",
     "text": [
      "[1.0, 0.5, 0.3333333333333333, 0.25]\n"
     ]
    }
   ],
   "source": [
    "print functionArray"
   ]
  },
  {
   "cell_type": "code",
   "execution_count": 6,
   "metadata": {},
   "outputs": [
    {
     "name": "stdout",
     "output_type": "stream",
     "text": [
      "[1.0, 0.5, 0.3333333333333333]\n"
     ]
    }
   ],
   "source": [
    "sumArray = []\n",
    "\n",
    "for x in np.arange(0, len(functionArray)-1, 1, dtype=float):    \n",
    "    sumArray.append(functionArray[int(x)])\n",
    "    \n",
    "print sumArray\n",
    "\n",
    "soma = sum(sumArray)\n",
    "integral = h*soma"
   ]
  },
  {
   "cell_type": "code",
   "execution_count": 7,
   "metadata": {},
   "outputs": [
    {
     "name": "stdout",
     "output_type": "stream",
     "text": [
      "Cálculo da integral pelo método dos retângulos com altura pela esquerda\n",
      "F(x) = 1.83333333333\n"
     ]
    }
   ],
   "source": [
    "print \"Cálculo da integral pelo método dos retângulos com altura pela esquerda\"\n",
    "print \"F(x) =\",integral"
   ]
  },
  {
   "cell_type": "markdown",
   "metadata": {},
   "source": [
    "#### Método dos Retângulos com Altura pela Direita"
   ]
  },
  {
   "cell_type": "code",
   "execution_count": 8,
   "metadata": {},
   "outputs": [
    {
     "name": "stdout",
     "output_type": "stream",
     "text": [
      "[0.5, 0.3333333333333333, 0.25]\n"
     ]
    }
   ],
   "source": [
    "sumArray = []\n",
    "\n",
    "for x in np.arange(1, len(functionArray), 1, dtype=float):    \n",
    "    sumArray.append(functionArray[int(x)])\n",
    "    \n",
    "print sumArray\n",
    "\n",
    "soma = sum(sumArray)\n",
    "integral = h*soma"
   ]
  },
  {
   "cell_type": "code",
   "execution_count": 9,
   "metadata": {},
   "outputs": [
    {
     "name": "stdout",
     "output_type": "stream",
     "text": [
      "Cálculo da integral pelo método dos retângulos com altura pela direita\n",
      "F(x) = 1.08333333333\n"
     ]
    }
   ],
   "source": [
    "print \"Cálculo da integral pelo método dos retângulos com altura pela direita\"\n",
    "print \"F(x) =\",integral"
   ]
  },
  {
   "cell_type": "markdown",
   "metadata": {},
   "source": [
    "#### Método dos Retângulos com Altura pelo Centro"
   ]
  },
  {
   "cell_type": "code",
   "execution_count": 10,
   "metadata": {},
   "outputs": [
    {
     "name": "stdout",
     "output_type": "stream",
     "text": [
      "[0.0, 1.0, 2.0, 3.0]\n",
      "0.0\n",
      "1.0\n",
      "2.0\n",
      "[0.5, 1.5, 2.5]\n"
     ]
    }
   ],
   "source": [
    "xMedioArray = []\n",
    "xArray = []\n",
    "\n",
    "for x in np.arange(0, n+h, h, dtype=float):    \n",
    "    xArray.append(x)\n",
    "\n",
    "print xArray    \n",
    "\n",
    "for x in np.arange(0, n, 1, dtype=float): \n",
    "    xMedio = xArray[int(x)]+xArray[int(x+1)]\n",
    "    xMedio = xMedio/2.0\n",
    "    xMedioArray.append(xMedio)\n",
    "    print x\n",
    "    \n",
    "print xMedioArray"
   ]
  },
  {
   "cell_type": "code",
   "execution_count": 11,
   "metadata": {},
   "outputs": [
    {
     "name": "stdout",
     "output_type": "stream",
     "text": [
      "[0.6666666666666666, 0.4, 0.2857142857142857]\n"
     ]
    }
   ],
   "source": [
    "sumArray = []\n",
    "\n",
    "for x in np.arange(0, len(xMedioArray), 1, dtype=float):    \n",
    "    sumArray.append(f(xMedioArray[int(x)]))\n",
    "    \n",
    "print sumArray\n",
    "\n",
    "soma = sum(sumArray)\n",
    "integral = h*soma"
   ]
  },
  {
   "cell_type": "code",
   "execution_count": 12,
   "metadata": {},
   "outputs": [
    {
     "name": "stdout",
     "output_type": "stream",
     "text": [
      "Cálculo da integral pelo método dos retângulos com altura pelo centro\n",
      "F(x) = 1.35238095238\n"
     ]
    }
   ],
   "source": [
    "print \"Cálculo da integral pelo método dos retângulos com altura pelo centro\"\n",
    "print \"F(x) =\",integral"
   ]
  }
 ],
 "metadata": {
  "kernelspec": {
   "display_name": "Python 2",
   "language": "python",
   "name": "python2"
  },
  "language_info": {
   "codemirror_mode": {
    "name": "ipython",
    "version": 2
   },
   "file_extension": ".py",
   "mimetype": "text/x-python",
   "name": "python",
   "nbconvert_exporter": "python",
   "pygments_lexer": "ipython2",
   "version": "2.7.12"
  }
 },
 "nbformat": 4,
 "nbformat_minor": 2
}

{
 "cells": [
  {
   "cell_type": "markdown",
   "metadata": {},
   "source": [
    "### Disciplina de Cálculo Numérico\n",
    "\n",
    "#### Curso: Engenharia da Computação\n",
    "\n",
    "#### Discente: Raphaell Maciel de Sousa\n",
    "\n",
    "#### Data: 19/04/2020\n",
    "\n",
    "Objetivo: este programa calcula a raiz de uma equação pelo método de Newton-Raphson."
   ]
  },
  {
   "cell_type": "code",
   "execution_count": 1,
   "metadata": {},
   "outputs": [],
   "source": [
    "import numpy as np\n",
    "import math\n",
    "import matplotlib.pyplot as plt"
   ]
  },
  {
   "cell_type": "code",
   "execution_count": 3,
   "metadata": {},
   "outputs": [
    {
     "name": "stdout",
     "output_type": "stream",
     "text": [
      "3*x**2 - 2*sqrt(x + 3)\n",
      "6*x - 1/sqrt(x + 3)\n"
     ]
    }
   ],
   "source": [
    "from sympy import *\n",
    "\n",
    "x = Symbol('x')\n",
    "\n",
    "function = 3*x**2-2*sqrt(x+3) #sqrt(5-x)-(2**x*2**(-1))\n",
    "function_prime = function.diff(x)\n",
    "\n",
    "print function\n",
    "print function_prime\n",
    "\n",
    "function_prime = lambdify(x, function_prime)"
   ]
  },
  {
   "cell_type": "raw",
   "metadata": {},
   "source": [
    "#f(x)\n",
    "def f(x):\n",
    "    #Domínio da função:\n",
    "    #x<=5 \n",
    "    return math.sqrt(5-x)-(2**x*2**(-1))"
   ]
  },
  {
   "cell_type": "raw",
   "metadata": {},
   "source": [
    "#f(x)\n",
    "def f(x):\n",
    "    #Domínio da função:\n",
    "    #x>0 \n",
    "    return 3*x-1/math.sqrt(3*x)-3 #math.sqrt(5-x)-(2**x*2**(-1))"
   ]
  },
  {
   "cell_type": "markdown",
   "metadata": {},
   "source": [
    "def f(x):\n",
    "    #Domínio da função:\n",
    "    #x>1/3\n",
    "    return math.log(3*x-1)+2*x "
   ]
  },
  {
   "cell_type": "code",
   "execution_count": 4,
   "metadata": {},
   "outputs": [],
   "source": [
    "#f(x)\n",
    "def f(x):\n",
    "    #Domínio da função:\n",
    "    #x<=5 \n",
    "    return 3*x**2-2*math.sqrt(x+3)"
   ]
  },
  {
   "cell_type": "code",
   "execution_count": 12,
   "metadata": {},
   "outputs": [
    {
     "name": "stdout",
     "output_type": "stream",
     "text": [
      "7.527864045\n"
     ]
    }
   ],
   "source": [
    "print f(2)"
   ]
  },
  {
   "cell_type": "markdown",
   "metadata": {},
   "source": [
    "#### Fase 1: Isolameno da raiz em um intervalo"
   ]
  },
  {
   "cell_type": "code",
   "execution_count": 23,
   "metadata": {},
   "outputs": [
    {
     "name": "stdout",
     "output_type": "stream",
     "text": [
      "A raiz está entre o intervalo:\n",
      "Limite Inferior: -1.0\n",
      "Limite Superior 0.0\n"
     ]
    }
   ],
   "source": [
    "functionArray = []\n",
    "xAxisArray = []\n",
    "\n",
    "contSinal = 0\n",
    "\n",
    "limInfX = -3\n",
    "limSupX = 2\n",
    "passoDeCalculo = 1\n",
    "\n",
    "for x in np.arange(limInfX, limSupX, passoDeCalculo, dtype=float):    \n",
    "    functionArray.append(f(x))\n",
    "    xAxisArray.append(x)\n",
    "    \n",
    "    if f(limInfX) > 0:        \n",
    "        if f(x) < 0 and contSinal == 0:\n",
    "            a0 = x-passoDeCalculo\n",
    "            b0 = x\n",
    "            print \"A raiz está entre o intervalo:\"\n",
    "            print \"Limite Inferior:\", a0\n",
    "            print \"Limite Superior\", b0\n",
    "            contSinal = 1\n",
    "            \n",
    "    else:        \n",
    "        if f(x) > 0 and contSinal == 0:\n",
    "            a0 = x-passoDeCalculo\n",
    "            b0 = x\n",
    "            print \"A raiz está entre o intervalo:\"\n",
    "            print \"Limite Inferior:\", a0\n",
    "            print \"Limite Superior\", b0\n",
    "            contSinal = 1"
   ]
  },
  {
   "cell_type": "code",
   "execution_count": 42,
   "metadata": {},
   "outputs": [
    {
     "name": "stdout",
     "output_type": "stream",
     "text": [
      "Raiz da equação via Scipy library: 1.1665360265645295\n"
     ]
    }
   ],
   "source": [
    "#https://docs.scipy.org/doc/scipy/reference/optimize.html\n",
    "\n",
    "from scipy.optimize import fsolve\n",
    "\n",
    "root = fsolve(f, 0.33)[0]\n",
    "print \"Raiz da equação via Scipy library:\", root"
   ]
  },
  {
   "cell_type": "code",
   "execution_count": 43,
   "metadata": {},
   "outputs": [
    {
     "data": {
      "image/png": "[encoded data removed]",
      "text/plain": [
       "<Figure size 432x288 with 1 Axes>"
      ]
     },
     "metadata": {
      "needs_background": "light"
     },
     "output_type": "display_data"
    }
   ],
   "source": [
    "fig = plt.figure()\n",
    "ax = fig.add_subplot(111)\n",
    "plt.plot(xAxisArray, functionArray, 'b--')\n",
    "plt.plot([root], [0], marker='o', markersize=8, color=\"red\")\n",
    "ax.set_title(\"Roots of the Equation\")\n",
    "ax.set_xlabel('x')\n",
    "ax.set_ylabel('f(x)')\n",
    "plt.grid(True)\n",
    "plt.show()"
   ]
  },
  {
   "cell_type": "markdown",
   "metadata": {},
   "source": [
    "### Fase 2: Refinamento das Raízes"
   ]
  },
  {
   "cell_type": "markdown",
   "metadata": {},
   "source": [
    "#### 1. Cálculo do Ponto Médio\n",
    "\n",
    "\\begin{equation}\n",
    "\\bar{x} = \\frac{a + b}{2}\n",
    "\\end{equation}"
   ]
  },
  {
   "cell_type": "code",
   "execution_count": 44,
   "metadata": {},
   "outputs": [],
   "source": [
    "def xMedio(a, b):\n",
    "    xMedio = (a + b)/2.0\n",
    "    return xMedio"
   ]
  },
  {
   "cell_type": "markdown",
   "metadata": {},
   "source": [
    "#### Método de Newton-Raphson\n",
    "\n",
    "\\begin{equation}\n",
    "x_{k+1} = x_{k} - \\frac{f(x_{k})}{f'(x_k)}\n",
    "\\end{equation}"
   ]
  },
  {
   "cell_type": "code",
   "execution_count": 48,
   "metadata": {},
   "outputs": [
    {
     "name": "stdout",
     "output_type": "stream",
     "text": [
      "1.2060055997504908\n",
      "1.1672352860265176\n",
      "1.1665362539770578\n",
      "A raiz da equação pelo método de Newton-Raphson é:  1.1665362539770578\n",
      "Raiz obtida com  3 iterações\n"
     ]
    }
   ],
   "source": [
    "cont = 0\n",
    "a = 1.0 #a0\n",
    "b = 2.0 #b0\n",
    "\n",
    "x = xMedio(a, b)\n",
    "xMedioAnterior = 0\n",
    "erro = abs(x-xMedioAnterior)\n",
    "\n",
    "functionResponse = f(x)\n",
    "\n",
    "stopSimulation = 0\n",
    "\n",
    "if f(xMedio(a,b)) == 0:\n",
    "    print \"A raiz da Equação é: \", xMedio(a, b)\n",
    "\n",
    "else:\n",
    "    while (abs(functionResponse)>0.01 and stopSimulation == 0 and erro>0.01):\n",
    "        \n",
    "        functionResponse = f(x)\n",
    "    \n",
    "        x = x - f(x)/function_prime(x)     \n",
    "        \n",
    "        erro = abs(x-xMedioAnterior)\n",
    "        xMedioAnterior = x\n",
    "\n",
    "        cont = cont+1\n",
    "        \n",
    "        print x\n",
    "        \n",
    "print \"A raiz da equação pelo método de Newton-Raphson é: \", x\n",
    "print \"Raiz obtida com \", cont, \"iterações\""
   ]
  },
  {
   "cell_type": "code",
   "execution_count": 49,
   "metadata": {},
   "outputs": [
    {
     "name": "stderr",
     "output_type": "stream",
     "text": [
      "/home/raphaell/.local/lib/python2.7/site-packages/matplotlib/cbook/deprecation.py:107: MatplotlibDeprecationWarning: Adding an axes using the same arguments as a previous axes currently reuses the earlier instance.  In a future version, a new instance will always be created and returned.  Meanwhile, this warning can be suppressed, and the future behavior ensured, by passing a unique label to each axes instance.\n",
      "  warnings.warn(message, mplDeprecation, stacklevel=1)\n"
     ]
    },
    {
     "data": {
      "text/plain": [
       "<matplotlib.legend.Legend at 0x7f2a22904e90>"
      ]
     },
     "execution_count": 49,
     "metadata": {},
     "output_type": "execute_result"
    },
    {
     "data": {
      "image/png": "[encoded data removed]",
      "text/plain": [
       "<Figure size 432x288 with 1 Axes>"
      ]
     },
     "metadata": {
      "needs_background": "light"
     },
     "output_type": "display_data"
    }
   ],
   "source": [
    "ax = fig.add_subplot(111)\n",
    "\n",
    "plt.plot(xAxisArray, functionArray, 'b--')\n",
    "plt.plot([root], [0], marker='o', markersize=8, color='red', label='Scipy')\n",
    "plt.plot([x], [0], marker='v', markersize=8, color='green', label='Newton-Raphson')\n",
    "\n",
    "ax.set_title(\"Roots of the Equation\")\n",
    "ax.set_xlabel('x')\n",
    "ax.set_ylabel('f(x)')\n",
    "\n",
    "plt.grid(True)\n",
    "plt.legend()"
   ]
  }
 ],
 "metadata": {
  "kernelspec": {
   "display_name": "Python 2",
   "language": "python",
   "name": "python2"
  },
  "language_info": {
   "codemirror_mode": {
    "name": "ipython",
    "version": 2
   },
   "file_extension": ".py",
   "mimetype": "text/x-python",
   "name": "python",
   "nbconvert_exporter": "python",
   "pygments_lexer": "ipython2",
   "version": "2.7.12"
  }
 },
 "nbformat": 4,
 "nbformat_minor": 2
}

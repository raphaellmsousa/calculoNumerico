{
 "cells": [
  {
   "cell_type": "markdown",
   "metadata": {},
   "source": [
    "### Disciplina de Cálculo Numérico\n",
    "\n",
    "#### Curso: Engenharia da Computação\n",
    "\n",
    "#### Discente: Raphaell Maciel de Sousa\n",
    "\n",
    "#### Data: 20/04/2020"
   ]
  },
  {
   "cell_type": "code",
   "execution_count": 1,
   "metadata": {},
   "outputs": [],
   "source": [
    "import numpy as np\n",
    "import math\n",
    "import matplotlib.pyplot as plt"
   ]
  },
  {
   "cell_type": "code",
   "execution_count": 2,
   "metadata": {},
   "outputs": [],
   "source": [
    "def f(x):\n",
    "    #Domínio da função:\n",
    "    #x>1/3\n",
    "    return math.log(3*x-1)+2*x"
   ]
  },
  {
   "cell_type": "markdown",
   "metadata": {},
   "source": [
    "#### Fase 1: Isolameno da raiz em um intervalo"
   ]
  },
  {
   "cell_type": "code",
   "execution_count": 40,
   "metadata": {},
   "outputs": [
    {
     "name": "stdout",
     "output_type": "stream",
     "text": [
      "A raiz está entre o intervalo:\n",
      "Limite Inferior: 0.43400000000000005\n",
      "Limite Superior 0.534\n"
     ]
    }
   ],
   "source": [
    "functionArray = []\n",
    "xAxisArray = []\n",
    "\n",
    "contSinal = 0\n",
    "\n",
    "limInfX = 0.334\n",
    "limSupX = 2\n",
    "passoDeCalculo = .1\n",
    "\n",
    "for x in np.arange(limInfX, limSupX, passoDeCalculo, dtype=float):    \n",
    "    functionArray.append(f(x))\n",
    "    xAxisArray.append(x)\n",
    "    \n",
    "    if f(limInfX) > 0:        \n",
    "        if f(x) < 0 and contSinal == 0:\n",
    "            a0 = x-passoDeCalculo\n",
    "            b0 = x\n",
    "            print \"A raiz está entre o intervalo:\"\n",
    "            print \"Limite Inferior:\", a0\n",
    "            print \"Limite Superior\", b0\n",
    "            contSinal = 1\n",
    "            \n",
    "    else:        \n",
    "        if f(x) > 0 and contSinal == 0:\n",
    "            a0 = x-passoDeCalculo\n",
    "            b0 = x\n",
    "            print \"A raiz está entre o intervalo:\"\n",
    "            print \"Limite Inferior:\", a0\n",
    "            print \"Limite Superior\", b0\n",
    "            contSinal = 1"
   ]
  },
  {
   "cell_type": "code",
   "execution_count": 4,
   "metadata": {},
   "outputs": [
    {
     "name": "stdout",
     "output_type": "stream",
     "text": [
      "Raiz da equação via Scipy library: 0.46488222063100815\n"
     ]
    }
   ],
   "source": [
    "#https://docs.scipy.org/doc/scipy/reference/optimize.html\n",
    "\n",
    "from scipy.optimize import fsolve\n",
    "\n",
    "root = fsolve(f, 0.34)[0]\n",
    "print \"Raiz da equação via Scipy library:\", root"
   ]
  },
  {
   "cell_type": "code",
   "execution_count": 5,
   "metadata": {},
   "outputs": [
    {
     "data": {
      "image/png": "[encoded data removed]",
      "text/plain": [
       "<Figure size 432x288 with 1 Axes>"
      ]
     },
     "metadata": {
      "needs_background": "light"
     },
     "output_type": "display_data"
    }
   ],
   "source": [
    "fig = plt.figure()\n",
    "ax = fig.add_subplot(111)\n",
    "plt.plot(xAxisArray, functionArray, 'b--')\n",
    "plt.plot([root], [0], marker='o', markersize=8, color=\"red\")\n",
    "ax.set_title(\"Roots of the Equation\")\n",
    "ax.set_xlabel('x')\n",
    "ax.set_ylabel('f(x)')\n",
    "plt.grid(True)\n",
    "plt.show()"
   ]
  }
 ],
 "metadata": {
  "kernelspec": {
   "display_name": "Python 2",
   "language": "python",
   "name": "python2"
  },
  "language_info": {
   "codemirror_mode": {
    "name": "ipython",
    "version": 2
   },
   "file_extension": ".py",
   "mimetype": "text/x-python",
   "name": "python",
   "nbconvert_exporter": "python",
   "pygments_lexer": "ipython2",
   "version": "2.7.12"
  }
 },
 "nbformat": 4,
 "nbformat_minor": 2
}

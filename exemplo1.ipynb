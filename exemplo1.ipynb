{
 "cells": [
  {
   "cell_type": "markdown",
   "metadata": {},
   "source": [
    "### Disciplina de Cálculo Numérico\n",
    "\n",
    "#### Curso: Engenharia da Computação\n",
    "\n",
    "#### Discente: Raphaell Maciel de Sousa\n",
    "\n",
    "#### Data: 16/04/2020"
   ]
  },
  {
   "cell_type": "markdown",
   "metadata": {},
   "source": [
    "Ex.: Considere a equação:\n",
    "\n",
    "\\begin{equation}\n",
    "f(x) = \\sqrt{3x+1}-2e^{-3x}\n",
    "\\end{equation}\n",
    "O domínio da função é tal que:\n",
    "\\begin{equation}\n",
    "3x+1>=0\n",
    "\\end{equation}\n",
    "ou\n",
    "\\begin{equation}\n",
    "x>=-1/3\n",
    "\\end{equation}\n",
    "\n",
    "Obs.: A verificação do domínio é importante pois vai definir os limites de valores de entrada da função, ou seja, não se pode entrar com valores divergentes do domínio."
   ]
  },
  {
   "cell_type": "code",
   "execution_count": 1,
   "metadata": {},
   "outputs": [],
   "source": [
    "import numpy as np\n",
    "import math\n",
    "import matplotlib.pyplot as plt"
   ]
  },
  {
   "cell_type": "code",
   "execution_count": 2,
   "metadata": {},
   "outputs": [],
   "source": [
    "#def f(x):\n",
    "    #Domínio da função:\n",
    "    #x>=-1/3\n",
    "#    return math.sqrt(3*x+1)-2*math.exp(-3*x)\n",
    "\n",
    "def f(x):\n",
    "    #Domínio da função:\n",
    "    #x<=5\n",
    "    return math.sqrt(5-x)-(2**x*2**(-1))"
   ]
  },
  {
   "cell_type": "markdown",
   "metadata": {},
   "source": [
    "#### Fase 1: Isolameno da raiz em um intervalo"
   ]
  },
  {
   "cell_type": "code",
   "execution_count": 3,
   "metadata": {},
   "outputs": [
    {
     "name": "stdout",
     "output_type": "stream",
     "text": [
      "A raiz está entre o intervalo:\n",
      "Limite Inferior: 1.0\n",
      "Limite Superior 2.0\n"
     ]
    }
   ],
   "source": [
    "functionArray = []\n",
    "xAxisArray = []\n",
    "\n",
    "contSinal = 0\n",
    "\n",
    "limInfX = -0.33\n",
    "limSupX = 5\n",
    "passoDeCalculo = 0.1\n",
    "\n",
    "limInfX = -2\n",
    "limSupX = 5\n",
    "passoDeCalculo = 1\n",
    "\n",
    "for x in np.arange(limInfX, limSupX, passoDeCalculo, dtype=float):    \n",
    "    functionArray.append(f(x))\n",
    "    xAxisArray.append(x)\n",
    "    \n",
    "    if f(limInfX) > 0:        \n",
    "        if f(x) < 0 and contSinal == 0:\n",
    "            a0 = x-passoDeCalculo\n",
    "            b0 = x\n",
    "            print \"A raiz está entre o intervalo:\"\n",
    "            print \"Limite Inferior:\", a0\n",
    "            print \"Limite Superior\", b0\n",
    "            contSinal = 1\n",
    "            \n",
    "    else:        \n",
    "        if f(x) > 0 and contSinal == 0:\n",
    "            a0 = x-passoDeCalculo\n",
    "            b0 = x\n",
    "            print \"A raiz está entre o intervalo:\"\n",
    "            print \"Limite Inferior:\", a0\n",
    "            print \"Limite Superior\", b0\n",
    "            contSinal = 1"
   ]
  },
  {
   "cell_type": "code",
   "execution_count": 4,
   "metadata": {},
   "outputs": [
    {
     "name": "stdout",
     "output_type": "stream",
     "text": [
      "Raiz da equação via Scipy library: 1.8318258257590025\n"
     ]
    }
   ],
   "source": [
    "#https://docs.scipy.org/doc/scipy/reference/optimize.html\n",
    "\n",
    "from scipy.optimize import fsolve\n",
    "\n",
    "root = fsolve(f, 0.3)[0]\n",
    "print \"Raiz da equação via Scipy library:\", root"
   ]
  },
  {
   "cell_type": "code",
   "execution_count": 5,
   "metadata": {},
   "outputs": [
    {
     "data": {
      "image/png": "[encoded data removed]",
      "text/plain": [
       "<Figure size 432x288 with 1 Axes>"
      ]
     },
     "metadata": {
      "needs_background": "light"
     },
     "output_type": "display_data"
    }
   ],
   "source": [
    "fig = plt.figure()\n",
    "ax = fig.add_subplot(111)\n",
    "plt.plot(xAxisArray, functionArray, 'b--')\n",
    "plt.plot([root], [0], marker='o', markersize=8, color=\"red\")\n",
    "ax.set_title(\"Roots of the Equation\")\n",
    "ax.set_xlabel('x')\n",
    "ax.set_ylabel('f(x)')\n",
    "plt.grid(True)\n",
    "plt.show()"
   ]
  },
  {
   "cell_type": "markdown",
   "metadata": {},
   "source": [
    "### Fase 2: Refinamento das Raízes"
   ]
  },
  {
   "cell_type": "markdown",
   "metadata": {},
   "source": [
    "#### Método da Bissecção ou Método do Meio Intervalo MMI"
   ]
  },
  {
   "cell_type": "markdown",
   "metadata": {},
   "source": [
    "#### 1. Cálculo do Ponto Médio\n",
    "\n",
    "\\begin{equation}\n",
    "\\bar{x} = (a + b)/2\n",
    "\\end{equation}"
   ]
  },
  {
   "cell_type": "code",
   "execution_count": 6,
   "metadata": {},
   "outputs": [],
   "source": [
    "def xMedioBisseccao(a, b):\n",
    "    xMedio = (a + b)/2.0\n",
    "    return xMedio"
   ]
  },
  {
   "cell_type": "markdown",
   "metadata": {},
   "source": [
    "#### 2. Calcula-se f(xMedio):\n",
    "\n",
    "```sh\n",
    "Se f(xMedio)=0 => xMedio é raiz\n",
    "\n",
    "Senão:\n",
    "\n",
    "    Se f(xMedio)*f(a)<0\n",
    "        a, b = (a, xMedio)\n",
    "        \n",
    "    Senão Se f(xMedio)*f(a)>0\n",
    "        a, b = (xMedio, b)\n",
    "\n",
    "```"
   ]
  },
  {
   "cell_type": "code",
   "execution_count": 7,
   "metadata": {},
   "outputs": [
    {
     "name": "stdout",
     "output_type": "stream",
     "text": [
      "-0.267949192431\n",
      "1.5\n",
      "1.828125\n",
      "0.00559936357035\n"
     ]
    }
   ],
   "source": [
    "print f(2)\n",
    "print xMedioBisseccao(a0, b0)\n",
    "\n",
    "print xMedioBisseccao(1.8125, 1.84375)\n",
    "print f(xMedioBisseccao(1.8125, 1.84375))"
   ]
  },
  {
   "cell_type": "code",
   "execution_count": 8,
   "metadata": {},
   "outputs": [
    {
     "name": "stdout",
     "output_type": "stream",
     "text": [
      "A raiz da equação pelo método da Bissecção é:  1.828125\n",
      "Raiz obtida com  6 iterações\n"
     ]
    }
   ],
   "source": [
    "cont = 1\n",
    "a = a0\n",
    "b = b0\n",
    "\n",
    "if f(xMedioBisseccao(a,b)) == 0:\n",
    "    print \"A raiz da Equação é: \", xMedioBisseccao(a, b)\n",
    "\n",
    "else:\n",
    "    while (abs(f(xMedioBisseccao(a, b)))>0.01):\n",
    "        xMedio = xMedioBisseccao(a,b)\n",
    "        if f(xMedio)*f(a)<0:\n",
    "            b = xMedioBisseccao(a,b)          \n",
    "        \n",
    "        if f(xMedio)*f(a)>0:\n",
    "            a = xMedioBisseccao(a,b)\n",
    "            \n",
    "        cont = cont+1\n",
    "                \n",
    "print \"A raiz da equação pelo método da Bissecção é: \", xMedioBisseccao(a,b)\n",
    "print \"Raiz obtida com \", cont, \"iterações\""
   ]
  },
  {
   "cell_type": "code",
   "execution_count": 9,
   "metadata": {},
   "outputs": [
    {
     "name": "stderr",
     "output_type": "stream",
     "text": [
      "/home/raphaell/.local/lib/python2.7/site-packages/matplotlib/cbook/deprecation.py:107: MatplotlibDeprecationWarning: Adding an axes using the same arguments as a previous axes currently reuses the earlier instance.  In a future version, a new instance will always be created and returned.  Meanwhile, this warning can be suppressed, and the future behavior ensured, by passing a unique label to each axes instance.\n",
      "  warnings.warn(message, mplDeprecation, stacklevel=1)\n"
     ]
    },
    {
     "data": {
      "text/plain": [
       "<matplotlib.legend.Legend at 0x7f818980dc50>"
      ]
     },
     "execution_count": 9,
     "metadata": {},
     "output_type": "execute_result"
    },
    {
     "data": {
      "image/png": "[encoded data removed]",
      "text/plain": [
       "<Figure size 432x288 with 1 Axes>"
      ]
     },
     "metadata": {
      "needs_background": "light"
     },
     "output_type": "display_data"
    }
   ],
   "source": [
    "# fig = plt.figure()\n",
    "ax = fig.add_subplot(111)\n",
    "\n",
    "plt.plot(xAxisArray, functionArray, 'b--')\n",
    "plt.plot([root], [0], marker='o', markersize=8, color='red', label='Scipy')\n",
    "plt.plot([xMedioBisseccao(a,b)], [0], marker='v', markersize=8, color='green', label='Bisseccao')\n",
    "\n",
    "ax.set_title(\"Roots of the Equation\")\n",
    "ax.set_xlabel('x')\n",
    "ax.set_ylabel('f(x)')\n",
    "\n",
    "plt.grid(True)\n",
    "plt.legend()"
   ]
  },
  {
   "cell_type": "markdown",
   "metadata": {},
   "source": [
    "#### Método da Posição Falsa"
   ]
  },
  {
   "cell_type": "markdown",
   "metadata": {},
   "source": [
    "É similar ao método anterior, porém, a estimativa da raiz é feita por meio de média ponderada, como segue:\n",
    "\n",
    "\\begin{equation}\n",
    "\\bar{x} = \\frac{af(b)-bf(a)}{f(b)-f(a)}\n",
    "\\end{equation}"
   ]
  },
  {
   "cell_type": "code",
   "execution_count": 10,
   "metadata": {},
   "outputs": [],
   "source": [
    "def xMedioPosicaoFalsa(a, b):\n",
    "    xMedio = (a*f(b) - b*f(a))/(f(b)-f(a))\n",
    "    return xMedio"
   ]
  },
  {
   "cell_type": "code",
   "execution_count": 12,
   "metadata": {},
   "outputs": [
    {
     "name": "stdout",
     "output_type": "stream",
     "text": [
      "A raiz da equação pelo método da Posição Falsa é:  1.8296904330834065\n",
      "Raiz obtida com  2 iterações\n"
     ]
    }
   ],
   "source": [
    "cont = 1\n",
    "a = a0\n",
    "b = b0\n",
    "\n",
    "if f(xMedioPosicaoFalsa(a,b)) == 0:\n",
    "    print \"A raiz da Equação é: \", xMedioPosicaoFalsa(a, b)\n",
    "\n",
    "else:\n",
    "    while (abs(f(xMedioPosicaoFalsa(a, b)))>0.01):\n",
    "        xMedio = xMedioPosicaoFalsa(a,b)\n",
    "        if f(xMedio)*f(a)<0:\n",
    "            b = xMedioPosicaoFalsa(a,b)          \n",
    "        \n",
    "        if f(xMedio)*f(a)>0:\n",
    "            a = xMedioPosicaoFalsa(a,b)\n",
    "            \n",
    "        cont = cont+1\n",
    "                \n",
    "print \"A raiz da equação pelo método da Posição Falsa é: \", xMedioPosicaoFalsa(a,b)\n",
    "print \"Raiz obtida com \", cont, \"iterações\""
   ]
  },
  {
   "cell_type": "code",
   "execution_count": 13,
   "metadata": {},
   "outputs": [
    {
     "data": {
      "text/plain": [
       "<matplotlib.legend.Legend at 0x7f8189927190>"
      ]
     },
     "execution_count": 13,
     "metadata": {},
     "output_type": "execute_result"
    },
    {
     "data": {
      "image/png": "[encoded data removed]",
      "text/plain": [
       "<Figure size 432x288 with 1 Axes>"
      ]
     },
     "metadata": {
      "needs_background": "light"
     },
     "output_type": "display_data"
    }
   ],
   "source": [
    "# fig = plt.figure()\n",
    "ax = fig.add_subplot(111)\n",
    "\n",
    "plt.plot(xAxisArray, functionArray, 'b--')\n",
    "plt.plot([root], [0], marker='o', markersize=8, color='red', label='Scipy')\n",
    "plt.plot([xMedioBisseccao(a,b)], [0], marker='v', markersize=8, color='green', label='Bisseccao')\n",
    "plt.plot([xMedioPosicaoFalsa(a,b)], [0], marker='x', markersize=8, color='yellow', label='Posicao Falsa')\n",
    "\n",
    "ax.set_title(\"Roots of the Equation\")\n",
    "ax.set_xlabel('x')\n",
    "ax.set_ylabel('f(x)')\n",
    "\n",
    "plt.grid(True)\n",
    "plt.legend()"
   ]
  }
 ],
 "metadata": {
  "kernelspec": {
   "display_name": "Python 2",
   "language": "python",
   "name": "python2"
  },
  "language_info": {
   "codemirror_mode": {
    "name": "ipython",
    "version": 2
   },
   "file_extension": ".py",
   "mimetype": "text/x-python",
   "name": "python",
   "nbconvert_exporter": "python",
   "pygments_lexer": "ipython2",
   "version": "2.7.12"
  }
 },
 "nbformat": 4,
 "nbformat_minor": 2
}

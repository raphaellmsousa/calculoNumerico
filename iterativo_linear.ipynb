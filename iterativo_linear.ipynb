{
 "cells": [
  {
   "cell_type": "markdown",
   "metadata": {},
   "source": [
    "### Disciplina de Cálculo Numérico\n",
    "\n",
    "#### Curso: Engenharia da Computação\n",
    "\n",
    "#### Discente: Raphaell Maciel de Sousa\n",
    "\n",
    "#### Data: 19/04/2020\n",
    "\n",
    "Objetivo: este programa calcula a raiz de uma equação pelo método de Iteração Linear."
   ]
  },
  {
   "cell_type": "code",
   "execution_count": 1,
   "metadata": {},
   "outputs": [],
   "source": [
    "import numpy as np\n",
    "import math\n",
    "import matplotlib.pyplot as plt"
   ]
  },
  {
   "cell_type": "code",
   "execution_count": 2,
   "metadata": {},
   "outputs": [],
   "source": [
    "select = 1 # seleciona a função de teste\n",
    "\n",
    "#f(x)\n",
    "def f(x):\n",
    "    #Domínio da função:\n",
    "    #x<=5\n",
    "    return math.sqrt(5-x)-(2**x*2**(-1))\n",
    "\n",
    "#primeira escolha da função phi\n",
    "if select == 0:\n",
    "    def functionPhi(x):\n",
    "        #Domínio da função:\n",
    "        #x<=5\n",
    "        return 5-(2**(2*x)*2**(-2))\n",
    "\n",
    "#segunda escolha da função phi\n",
    "if select == 1:    \n",
    "    def functionPhi(x):\n",
    "        #Domínio da função:\n",
    "        #x<=5\n",
    "        return math.log(5-x)/(2*math.log(2))+1"
   ]
  },
  {
   "cell_type": "raw",
   "metadata": {},
   "source": [
    "select = 0 # seleciona a função de teste\n",
    "\n",
    "# f(x)\n",
    "def f(x):\n",
    "    #Domínio da função:\n",
    "    #x>0\n",
    "    return 3*x-1/math.sqrt(3*x)-3\n",
    "\n",
    "#primeira escolha da função phi\n",
    "if select == 0:\n",
    "    def functionPhi(x):\n",
    "        #Domínio da função:\n",
    "        #x>0\n",
    "        return 1/(3*math.sqrt(3*x))+1\n",
    "\n",
    "#segunda escolha da função phi\n",
    "if select == 1:    \n",
    "    def functionPhi(x):\n",
    "        #Domínio da função:\n",
    "        #x>0\n",
    "        return 1/(27*(x-1)**2)"
   ]
  },
  {
   "cell_type": "markdown",
   "metadata": {},
   "source": [
    "#### Fase 1: Isolameno da raiz em um intervalo"
   ]
  },
  {
   "cell_type": "code",
   "execution_count": 3,
   "metadata": {},
   "outputs": [
    {
     "name": "stdout",
     "output_type": "stream",
     "text": [
      "A raiz está entre o intervalo:\n",
      "Limite Inferior: 1.8000000000000034\n",
      "Limite Superior 1.9000000000000035\n"
     ]
    }
   ],
   "source": [
    "functionArray = []\n",
    "xAxisArray = []\n",
    "\n",
    "contSinal = 0\n",
    "\n",
    "limInfX = -2\n",
    "limSupX = 5\n",
    "passoDeCalculo = 0.1\n",
    "\n",
    "for x in np.arange(limInfX, limSupX, passoDeCalculo, dtype=float):    \n",
    "    functionArray.append(f(x))\n",
    "    xAxisArray.append(x)\n",
    "    \n",
    "    if f(limInfX) > 0:        \n",
    "        if f(x) < 0 and contSinal == 0:\n",
    "            a0 = x-passoDeCalculo\n",
    "            b0 = x\n",
    "            print \"A raiz está entre o intervalo:\"\n",
    "            print \"Limite Inferior:\", a0\n",
    "            print \"Limite Superior\", b0\n",
    "            contSinal = 1\n",
    "            \n",
    "    else:        \n",
    "        if f(x) > 0 and contSinal == 0:\n",
    "            a0 = x-passoDeCalculo\n",
    "            b0 = x\n",
    "            print \"A raiz está entre o intervalo:\"\n",
    "            print \"Limite Inferior:\", a0\n",
    "            print \"Limite Superior\", b0\n",
    "            contSinal = 1"
   ]
  },
  {
   "cell_type": "code",
   "execution_count": 4,
   "metadata": {},
   "outputs": [
    {
     "name": "stdout",
     "output_type": "stream",
     "text": [
      "Raiz da equação via Scipy library: 1.8318258257590025\n"
     ]
    }
   ],
   "source": [
    "#https://docs.scipy.org/doc/scipy/reference/optimize.html\n",
    "\n",
    "from scipy.optimize import fsolve\n",
    "\n",
    "root = fsolve(f, 0.3)[0]\n",
    "print \"Raiz da equação via Scipy library:\", root"
   ]
  },
  {
   "cell_type": "code",
   "execution_count": 5,
   "metadata": {},
   "outputs": [
    {
     "data": {
      "image/png": "[encoded data removed]",
      "text/plain": [
       "<Figure size 432x288 with 1 Axes>"
      ]
     },
     "metadata": {
      "needs_background": "light"
     },
     "output_type": "display_data"
    }
   ],
   "source": [
    "fig = plt.figure()\n",
    "ax = fig.add_subplot(111)\n",
    "plt.plot(xAxisArray, functionArray, 'b--')\n",
    "plt.plot([root], [0], marker='o', markersize=8, color=\"red\")\n",
    "ax.set_title(\"Roots of the Equation\")\n",
    "ax.set_xlabel('x')\n",
    "ax.set_ylabel('f(x)')\n",
    "plt.grid(True)\n",
    "plt.show()"
   ]
  },
  {
   "cell_type": "markdown",
   "metadata": {},
   "source": [
    "### Fase 2: Refinamento das Raízes"
   ]
  },
  {
   "cell_type": "markdown",
   "metadata": {},
   "source": [
    "#### Método Iterativo Linear\n",
    "\n",
    "Consiste em transformar a função f(x) contínua no intervalo [a; b] em uma equação equivalente x=φ(x) e, a partir de uma aproximação inicial x0 (atribuída no intervalo de existência da raiz), gerar uma sequência de aproximações para a raiz pela relação xk+1=φ(xk)\n",
    "\n",
    "A função φ(x) é denominada função de iteração. Normalmente, ocorrem mais de uma função de iteração, sendo que umas podem gerar sequências convergentes e outras podem gerar sequências divergentes."
   ]
  },
  {
   "cell_type": "markdown",
   "metadata": {},
   "source": [
    "#### 1. Cálculo do Ponto Médio\n",
    "\n",
    "\\begin{equation}\n",
    "\\bar{x} = \\frac{a + b}{2}\n",
    "\\end{equation}"
   ]
  },
  {
   "cell_type": "code",
   "execution_count": 6,
   "metadata": {},
   "outputs": [],
   "source": [
    "def xMedio(a, b):\n",
    "    xMedio = (a + b)/2.0\n",
    "    return xMedio"
   ]
  },
  {
   "cell_type": "code",
   "execution_count": 7,
   "metadata": {},
   "outputs": [
    {
     "name": "stdout",
     "output_type": "stream",
     "text": [
      "A raiz da equação pelo método da Iteração Linear é:  1.82767591431\n",
      "Raiz obtida com  0 iterações\n"
     ]
    }
   ],
   "source": [
    "cont = 0\n",
    "a = a0\n",
    "b = b0\n",
    "\n",
    "phiAnterior = functionPhi(xMedio(a,b))\n",
    "phi = functionPhi(xMedio(a,b))\n",
    "stopSimulation = 0\n",
    "\n",
    "if functionPhi(xMedio(a,b)) == 0:\n",
    "    print \"A raiz da Equação é: \", xMedio(a, b)\n",
    "\n",
    "else:\n",
    "    while (abs(f(phi))>0.01 and stopSimulation == 0):\n",
    "      \n",
    "        phi = functionPhi(phiAnterior)\n",
    "        \n",
    "        if phi<a or phi>b:\n",
    "            stopSimulation = 1\n",
    "            print \"Sequência divergente!\"\n",
    "            print \"phi_(k-1):\", phiAnterior, \", phi_(k)\", phi\n",
    "            \n",
    "        phiAnterior = phi       \n",
    "       \n",
    "        cont = cont+1\n",
    "        \n",
    "if stopSimulation == 0:\n",
    "    print \"A raiz da equação pelo método da Iteração Linear é: \", phi\n",
    "    print \"Raiz obtida com \", cont, \"iterações\""
   ]
  },
  {
   "cell_type": "code",
   "execution_count": 8,
   "metadata": {},
   "outputs": [
    {
     "name": "stderr",
     "output_type": "stream",
     "text": [
      "/home/raphaell/.local/lib/python2.7/site-packages/matplotlib/cbook/deprecation.py:107: MatplotlibDeprecationWarning: Adding an axes using the same arguments as a previous axes currently reuses the earlier instance.  In a future version, a new instance will always be created and returned.  Meanwhile, this warning can be suppressed, and the future behavior ensured, by passing a unique label to each axes instance.\n",
      "  warnings.warn(message, mplDeprecation, stacklevel=1)\n"
     ]
    },
    {
     "data": {
      "text/plain": [
       "<matplotlib.legend.Legend at 0x7fd2458ce690>"
      ]
     },
     "execution_count": 8,
     "metadata": {},
     "output_type": "execute_result"
    },
    {
     "data": {
      "image/png": "[encoded data removed]",
      "text/plain": [
       "<Figure size 432x288 with 1 Axes>"
      ]
     },
     "metadata": {
      "needs_background": "light"
     },
     "output_type": "display_data"
    }
   ],
   "source": [
    "ax = fig.add_subplot(111)\n",
    "\n",
    "plt.plot(xAxisArray, functionArray, 'b--')\n",
    "plt.plot([root], [0], marker='o', markersize=8, color='red', label='Scipy')\n",
    "plt.plot([phi], [0], marker='v', markersize=8, color='green', label='Ponto Fixo')\n",
    "\n",
    "ax.set_title(\"Roots of the Equation\")\n",
    "ax.set_xlabel('x')\n",
    "ax.set_ylabel('f(x)')\n",
    "\n",
    "plt.grid(True)\n",
    "plt.legend()"
   ]
  }
 ],
 "metadata": {
  "kernelspec": {
   "display_name": "Python 2",
   "language": "python",
   "name": "python2"
  },
  "language_info": {
   "codemirror_mode": {
    "name": "ipython",
    "version": 2
   },
   "file_extension": ".py",
   "mimetype": "text/x-python",
   "name": "python",
   "nbconvert_exporter": "python",
   "pygments_lexer": "ipython2",
   "version": "2.7.12"
  }
 },
 "nbformat": 4,
 "nbformat_minor": 2
}
